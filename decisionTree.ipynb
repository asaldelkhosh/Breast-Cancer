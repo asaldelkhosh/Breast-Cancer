{
 "cells": [
  {
   "cell_type": "code",
   "execution_count": 43,
   "id": "3ea4bf07",
   "metadata": {},
   "outputs": [],
   "source": [
    "from ipynb.fs.full.EDA import *"
   ]
  },
  {
   "cell_type": "code",
   "execution_count": 44,
   "id": "a4ea4b13",
   "metadata": {},
   "outputs": [],
   "source": [
    "from sklearn.model_selection import train_test_split\n",
    "dc = load_breast_cancer(as_frame=True)\n",
    "dc = dc.frame\n",
    "X = dc\n",
    "y = dc.target\n",
    "X_train, X_test, y_train, y_test = train_test_split(X, y, test_size=0.3, random_state=42)"
   ]
  },
  {
   "cell_type": "code",
   "execution_count": 45,
   "id": "d0da43a9",
   "metadata": {},
   "outputs": [],
   "source": [
    "from sklearn.tree import DecisionTreeClassifier\n",
    "clf = DecisionTreeClassifier()"
   ]
  },
  {
   "cell_type": "code",
   "execution_count": 46,
   "id": "cd8a7c78",
   "metadata": {},
   "outputs": [
    {
     "data": {
      "text/plain": [
       "DecisionTreeClassifier()"
      ]
     },
     "execution_count": 46,
     "metadata": {},
     "output_type": "execute_result"
    }
   ],
   "source": [
    "clf.fit(X_train, y_train)"
   ]
  },
  {
   "cell_type": "code",
   "execution_count": 52,
   "id": "ac1edb3b",
   "metadata": {},
   "outputs": [],
   "source": [
    "y_pred = clf.predict(X_test)"
   ]
  },
  {
   "cell_type": "code",
   "execution_count": 48,
   "id": "214bacf6",
   "metadata": {},
   "outputs": [],
   "source": [
    "from sklearn.metrics import accuracy_score, classification_report"
   ]
  },
  {
   "cell_type": "code",
   "execution_count": 53,
   "id": "99a609d6",
   "metadata": {},
   "outputs": [
    {
     "data": {
      "text/plain": [
       "1.0"
      ]
     },
     "execution_count": 53,
     "metadata": {},
     "output_type": "execute_result"
    }
   ],
   "source": [
    "acurr = accuracy_score(y_test, y_pred)\n",
    "acurr"
   ]
  },
  {
   "cell_type": "code",
   "execution_count": null,
   "id": "fc486c49",
   "metadata": {},
   "outputs": [],
   "source": [
    "with open(\"tree.dot\", 'w') as f:\n",
    "    f = tree.export_graphviz(dtc, out_file=f,\n",
    "                             feature_names=data.feature_names,\n",
    "                             class_names=data.target_names)"
   ]
  },
  {
   "cell_type": "code",
   "execution_count": 54,
   "id": "d63ca77c",
   "metadata": {},
   "outputs": [
    {
     "data": {
      "text/plain": [
       "'              precision    recall  f1-score   support\\n\\n           0       1.00      1.00      1.00        63\\n           1       1.00      1.00      1.00       108\\n\\n    accuracy                           1.00       171\\n   macro avg       1.00      1.00      1.00       171\\nweighted avg       1.00      1.00      1.00       171\\n'"
      ]
     },
     "execution_count": 54,
     "metadata": {},
     "output_type": "execute_result"
    }
   ],
   "source": [
    "rep = classification_report(y_test, y_pred)\n",
    "rep"
   ]
  },
  {
   "cell_type": "code",
   "execution_count": null,
   "id": "580fee65",
   "metadata": {},
   "outputs": [],
   "source": []
  }
 ],
 "metadata": {
  "kernelspec": {
   "display_name": "Python 3 (ipykernel)",
   "language": "python",
   "name": "python3"
  },
  "language_info": {
   "codemirror_mode": {
    "name": "ipython",
    "version": 3
   },
   "file_extension": ".py",
   "mimetype": "text/x-python",
   "name": "python",
   "nbconvert_exporter": "python",
   "pygments_lexer": "ipython3",
   "version": "3.7.4"
  }
 },
 "nbformat": 4,
 "nbformat_minor": 5
}
